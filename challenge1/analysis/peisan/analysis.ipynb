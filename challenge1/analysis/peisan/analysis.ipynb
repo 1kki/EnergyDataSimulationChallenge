{
 "metadata": {
  "name": ""
 },
 "nbformat": 3,
 "nbformat_minor": 0,
 "worksheets": [
  {
   "cells": [
    {
     "cell_type": "markdown",
     "metadata": {},
     "source": [
      "# This notbook is for challenge2 of Cambridge Energy Data Lab GitHub tasks\n",
      "\n",
      "URL: https://github.com/camenergydatalab/EnergyDataSimulationChallenge"
     ]
    },
    {
     "cell_type": "markdown",
     "metadata": {},
     "source": [
      "## Data Import"
     ]
    },
    {
     "cell_type": "markdown",
     "metadata": {},
     "source": [
      "#### Load datasets as pandas DataFrame"
     ]
    },
    {
     "cell_type": "code",
     "collapsed": false,
     "input": [
      "import pandas"
     ],
     "language": "python",
     "metadata": {},
     "outputs": [],
     "prompt_number": 2
    },
    {
     "cell_type": "code",
     "collapsed": false,
     "input": [
      "df_training = pandas.read_table('../../data/training_dataset_500.csv', sep=',')\n",
      "df_test = pandas.read_table('../../data/test_dataset_500.csv', sep=',')"
     ],
     "language": "python",
     "metadata": {},
     "outputs": [],
     "prompt_number": 3
    },
    {
     "cell_type": "code",
     "collapsed": false,
     "input": [
      "df_training.head()"
     ],
     "language": "python",
     "metadata": {},
     "outputs": [
      {
       "html": [
        "<div style=\"max-height:1000px;max-width:1500px;overflow:auto;\">\n",
        "<table border=\"1\" class=\"dataframe\">\n",
        "  <thead>\n",
        "    <tr style=\"text-align: right;\">\n",
        "      <th></th>\n",
        "      <th>ID</th>\n",
        "      <th>Label</th>\n",
        "      <th>House</th>\n",
        "      <th>Year</th>\n",
        "      <th>Month</th>\n",
        "      <th>Temperature</th>\n",
        "      <th>Daylight</th>\n",
        "      <th>EnergyProduction</th>\n",
        "    </tr>\n",
        "  </thead>\n",
        "  <tbody>\n",
        "    <tr>\n",
        "      <th>0</th>\n",
        "      <td> 0</td>\n",
        "      <td> 0</td>\n",
        "      <td> 1</td>\n",
        "      <td> 2011</td>\n",
        "      <td>  7</td>\n",
        "      <td> 26.2</td>\n",
        "      <td> 178.9</td>\n",
        "      <td> 740</td>\n",
        "    </tr>\n",
        "    <tr>\n",
        "      <th>1</th>\n",
        "      <td> 1</td>\n",
        "      <td> 1</td>\n",
        "      <td> 1</td>\n",
        "      <td> 2011</td>\n",
        "      <td>  8</td>\n",
        "      <td> 25.8</td>\n",
        "      <td> 169.7</td>\n",
        "      <td> 731</td>\n",
        "    </tr>\n",
        "    <tr>\n",
        "      <th>2</th>\n",
        "      <td> 2</td>\n",
        "      <td> 2</td>\n",
        "      <td> 1</td>\n",
        "      <td> 2011</td>\n",
        "      <td>  9</td>\n",
        "      <td> 22.8</td>\n",
        "      <td> 170.2</td>\n",
        "      <td> 694</td>\n",
        "    </tr>\n",
        "    <tr>\n",
        "      <th>3</th>\n",
        "      <td> 3</td>\n",
        "      <td> 3</td>\n",
        "      <td> 1</td>\n",
        "      <td> 2011</td>\n",
        "      <td> 10</td>\n",
        "      <td> 16.4</td>\n",
        "      <td> 169.1</td>\n",
        "      <td> 688</td>\n",
        "    </tr>\n",
        "    <tr>\n",
        "      <th>4</th>\n",
        "      <td> 4</td>\n",
        "      <td> 4</td>\n",
        "      <td> 1</td>\n",
        "      <td> 2011</td>\n",
        "      <td> 11</td>\n",
        "      <td> 11.4</td>\n",
        "      <td> 169.1</td>\n",
        "      <td> 650</td>\n",
        "    </tr>\n",
        "  </tbody>\n",
        "</table>\n",
        "</div>"
       ],
       "metadata": {},
       "output_type": "pyout",
       "prompt_number": 14,
       "text": [
        "   ID  Label  House  Year  Month  Temperature  Daylight  EnergyProduction\n",
        "0   0      0      1  2011      7         26.2     178.9               740\n",
        "1   1      1      1  2011      8         25.8     169.7               731\n",
        "2   2      2      1  2011      9         22.8     170.2               694\n",
        "3   3      3      1  2011     10         16.4     169.1               688\n",
        "4   4      4      1  2011     11         11.4     169.1               650"
       ]
      }
     ],
     "prompt_number": 14
    },
    {
     "cell_type": "code",
     "collapsed": false,
     "input": [
      "df_test.head()"
     ],
     "language": "python",
     "metadata": {},
     "outputs": [
      {
       "html": [
        "<div style=\"max-height:1000px;max-width:1500px;overflow:auto;\">\n",
        "<table border=\"1\" class=\"dataframe\">\n",
        "  <thead>\n",
        "    <tr style=\"text-align: right;\">\n",
        "      <th></th>\n",
        "      <th>ID</th>\n",
        "      <th>Label</th>\n",
        "      <th>House</th>\n",
        "      <th>Year</th>\n",
        "      <th>Month</th>\n",
        "      <th>Temperature</th>\n",
        "      <th>Daylight</th>\n",
        "      <th>EnergyProduction</th>\n",
        "    </tr>\n",
        "  </thead>\n",
        "  <tbody>\n",
        "    <tr>\n",
        "      <th>0</th>\n",
        "      <td>  23</td>\n",
        "      <td> 23</td>\n",
        "      <td> 1</td>\n",
        "      <td> 2013</td>\n",
        "      <td> 6</td>\n",
        "      <td> 22.0</td>\n",
        "      <td> 125.5</td>\n",
        "      <td> 778</td>\n",
        "    </tr>\n",
        "    <tr>\n",
        "      <th>1</th>\n",
        "      <td>  47</td>\n",
        "      <td> 23</td>\n",
        "      <td> 2</td>\n",
        "      <td> 2013</td>\n",
        "      <td> 6</td>\n",
        "      <td> 21.1</td>\n",
        "      <td> 123.1</td>\n",
        "      <td> 627</td>\n",
        "    </tr>\n",
        "    <tr>\n",
        "      <th>2</th>\n",
        "      <td>  71</td>\n",
        "      <td> 23</td>\n",
        "      <td> 3</td>\n",
        "      <td> 2013</td>\n",
        "      <td> 6</td>\n",
        "      <td> 21.9</td>\n",
        "      <td> 126.8</td>\n",
        "      <td> 735</td>\n",
        "    </tr>\n",
        "    <tr>\n",
        "      <th>3</th>\n",
        "      <td>  95</td>\n",
        "      <td> 23</td>\n",
        "      <td> 4</td>\n",
        "      <td> 2013</td>\n",
        "      <td> 6</td>\n",
        "      <td> 20.2</td>\n",
        "      <td> 125.2</td>\n",
        "      <td> 533</td>\n",
        "    </tr>\n",
        "    <tr>\n",
        "      <th>4</th>\n",
        "      <td> 119</td>\n",
        "      <td> 23</td>\n",
        "      <td> 5</td>\n",
        "      <td> 2013</td>\n",
        "      <td> 6</td>\n",
        "      <td> 20.2</td>\n",
        "      <td> 125.2</td>\n",
        "      <td> 533</td>\n",
        "    </tr>\n",
        "  </tbody>\n",
        "</table>\n",
        "</div>"
       ],
       "metadata": {},
       "output_type": "pyout",
       "prompt_number": 15,
       "text": [
        "    ID  Label  House  Year  Month  Temperature  Daylight  EnergyProduction\n",
        "0   23     23      1  2013      6         22.0     125.5               778\n",
        "1   47     23      2  2013      6         21.1     123.1               627\n",
        "2   71     23      3  2013      6         21.9     126.8               735\n",
        "3   95     23      4  2013      6         20.2     125.2               533\n",
        "4  119     23      5  2013      6         20.2     125.2               533"
       ]
      }
     ],
     "prompt_number": 15
    },
    {
     "cell_type": "markdown",
     "metadata": {},
     "source": [
      "## Data Check"
     ]
    },
    {
     "cell_type": "markdown",
     "metadata": {},
     "source": [
      "#### check basic stats"
     ]
    },
    {
     "cell_type": "markdown",
     "metadata": {},
     "source": [
      "As test dataset has only June 2013, the numbers are not close to training dataset. As long as I see mean values, Temperature is higher, Daylight is lower, and EnergyProduction is close.  Especially Dailight is much lower probalby because of rainy season? "
     ]
    },
    {
     "cell_type": "code",
     "collapsed": false,
     "input": [
      "df_training[['Temperature','Daylight','EnergyProduction']].describe()"
     ],
     "language": "python",
     "metadata": {},
     "outputs": [
      {
       "html": [
        "<div style=\"max-height:1000px;max-width:1500px;overflow:auto;\">\n",
        "<table border=\"1\" class=\"dataframe\">\n",
        "  <thead>\n",
        "    <tr style=\"text-align: right;\">\n",
        "      <th></th>\n",
        "      <th>Temperature</th>\n",
        "      <th>Daylight</th>\n",
        "      <th>EnergyProduction</th>\n",
        "    </tr>\n",
        "  </thead>\n",
        "  <tbody>\n",
        "    <tr>\n",
        "      <th>count</th>\n",
        "      <td> 11500.000000</td>\n",
        "      <td> 11500.000000</td>\n",
        "      <td> 11500.000000</td>\n",
        "    </tr>\n",
        "    <tr>\n",
        "      <th>mean</th>\n",
        "      <td>    14.372348</td>\n",
        "      <td>   189.121870</td>\n",
        "      <td>   612.748870</td>\n",
        "    </tr>\n",
        "    <tr>\n",
        "      <th>std</th>\n",
        "      <td>     8.490811</td>\n",
        "      <td>    29.432125</td>\n",
        "      <td>   142.006144</td>\n",
        "    </tr>\n",
        "    <tr>\n",
        "      <th>min</th>\n",
        "      <td>     0.800000</td>\n",
        "      <td>   133.700000</td>\n",
        "      <td>   254.000000</td>\n",
        "    </tr>\n",
        "    <tr>\n",
        "      <th>25%</th>\n",
        "      <td>     5.300000</td>\n",
        "      <td>   169.100000</td>\n",
        "      <td>   509.000000</td>\n",
        "    </tr>\n",
        "    <tr>\n",
        "      <th>50%</th>\n",
        "      <td>    13.200000</td>\n",
        "      <td>   181.800000</td>\n",
        "      <td>   592.000000</td>\n",
        "    </tr>\n",
        "    <tr>\n",
        "      <th>75%</th>\n",
        "      <td>    22.800000</td>\n",
        "      <td>   205.200000</td>\n",
        "      <td>   698.000000</td>\n",
        "    </tr>\n",
        "    <tr>\n",
        "      <th>max</th>\n",
        "      <td>    29.000000</td>\n",
        "      <td>   271.300000</td>\n",
        "      <td>  1254.000000</td>\n",
        "    </tr>\n",
        "  </tbody>\n",
        "</table>\n",
        "</div>"
       ],
       "metadata": {},
       "output_type": "pyout",
       "prompt_number": 10,
       "text": [
        "        Temperature      Daylight  EnergyProduction\n",
        "count  11500.000000  11500.000000      11500.000000\n",
        "mean      14.372348    189.121870        612.748870\n",
        "std        8.490811     29.432125        142.006144\n",
        "min        0.800000    133.700000        254.000000\n",
        "25%        5.300000    169.100000        509.000000\n",
        "50%       13.200000    181.800000        592.000000\n",
        "75%       22.800000    205.200000        698.000000\n",
        "max       29.000000    271.300000       1254.000000"
       ]
      }
     ],
     "prompt_number": 10
    },
    {
     "cell_type": "code",
     "collapsed": false,
     "input": [
      "df_test[['Temperature','Daylight','EnergyProduction']].describe()"
     ],
     "language": "python",
     "metadata": {},
     "outputs": [
      {
       "html": [
        "<div style=\"max-height:1000px;max-width:1500px;overflow:auto;\">\n",
        "<table border=\"1\" class=\"dataframe\">\n",
        "  <thead>\n",
        "    <tr style=\"text-align: right;\">\n",
        "      <th></th>\n",
        "      <th>Temperature</th>\n",
        "      <th>Daylight</th>\n",
        "      <th>EnergyProduction</th>\n",
        "    </tr>\n",
        "  </thead>\n",
        "  <tbody>\n",
        "    <tr>\n",
        "      <th>count</th>\n",
        "      <td> 500.00000</td>\n",
        "      <td> 500.000000</td>\n",
        "      <td> 500.000000</td>\n",
        "    </tr>\n",
        "    <tr>\n",
        "      <th>mean</th>\n",
        "      <td>  21.70540</td>\n",
        "      <td> 125.111400</td>\n",
        "      <td> 586.774000</td>\n",
        "    </tr>\n",
        "    <tr>\n",
        "      <th>std</th>\n",
        "      <td>   0.86661</td>\n",
        "      <td>   1.595726</td>\n",
        "      <td> 100.292653</td>\n",
        "    </tr>\n",
        "    <tr>\n",
        "      <th>min</th>\n",
        "      <td>  19.30000</td>\n",
        "      <td> 121.800000</td>\n",
        "      <td> 451.000000</td>\n",
        "    </tr>\n",
        "    <tr>\n",
        "      <th>25%</th>\n",
        "      <td>  21.10000</td>\n",
        "      <td> 123.900000</td>\n",
        "      <td> 518.000000</td>\n",
        "    </tr>\n",
        "    <tr>\n",
        "      <th>50%</th>\n",
        "      <td>  21.90000</td>\n",
        "      <td> 125.200000</td>\n",
        "      <td> 565.000000</td>\n",
        "    </tr>\n",
        "    <tr>\n",
        "      <th>75%</th>\n",
        "      <td>  22.50000</td>\n",
        "      <td> 126.000000</td>\n",
        "      <td> 668.000000</td>\n",
        "    </tr>\n",
        "    <tr>\n",
        "      <th>max</th>\n",
        "      <td>  22.80000</td>\n",
        "      <td> 129.100000</td>\n",
        "      <td> 886.000000</td>\n",
        "    </tr>\n",
        "  </tbody>\n",
        "</table>\n",
        "</div>"
       ],
       "metadata": {},
       "output_type": "pyout",
       "prompt_number": 11,
       "text": [
        "       Temperature    Daylight  EnergyProduction\n",
        "count    500.00000  500.000000        500.000000\n",
        "mean      21.70540  125.111400        586.774000\n",
        "std        0.86661    1.595726        100.292653\n",
        "min       19.30000  121.800000        451.000000\n",
        "25%       21.10000  123.900000        518.000000\n",
        "50%       21.90000  125.200000        565.000000\n",
        "75%       22.50000  126.000000        668.000000\n",
        "max       22.80000  129.100000        886.000000"
       ]
      }
     ],
     "prompt_number": 11
    },
    {
     "cell_type": "markdown",
     "metadata": {},
     "source": [
      "## Prediction"
     ]
    },
    {
     "cell_type": "markdown",
     "metadata": {},
     "source": [
      "## Data Output"
     ]
    }
   ],
   "metadata": {}
  }
 ]
}