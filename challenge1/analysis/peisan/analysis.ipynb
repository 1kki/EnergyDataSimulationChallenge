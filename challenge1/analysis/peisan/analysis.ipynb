{
 "metadata": {
  "name": ""
 },
 "nbformat": 3,
 "nbformat_minor": 0,
 "worksheets": [
  {
   "cells": [
    {
     "cell_type": "markdown",
     "metadata": {},
     "source": [
      "# This notbook is for challenge2 of Cambridge Energy Data Lab GitHub tasks\n",
      "\n",
      "URL: https://github.com/camenergydatalab/EnergyDataSimulationChallenge"
     ]
    },
    {
     "cell_type": "markdown",
     "metadata": {},
     "source": [
      "## Data Import"
     ]
    },
    {
     "cell_type": "markdown",
     "metadata": {},
     "source": [
      "#### Load datasets as pandas DataFrame"
     ]
    },
    {
     "cell_type": "code",
     "collapsed": false,
     "input": [
      "import pandas"
     ],
     "language": "python",
     "metadata": {},
     "outputs": [],
     "prompt_number": 4
    },
    {
     "cell_type": "code",
     "collapsed": false,
     "input": [
      "df_all = pandas.read_table('../../data/dataset_500.csv', sep=',')\n",
      "df_training = pandas.read_table('../../data/training_dataset_500.csv', sep=',')\n",
      "df_test = pandas.read_table('../../data/test_dataset_500.csv', sep=',')"
     ],
     "language": "python",
     "metadata": {},
     "outputs": [],
     "prompt_number": 5
    },
    {
     "cell_type": "code",
     "collapsed": false,
     "input": [
      "df_all.head()"
     ],
     "language": "python",
     "metadata": {},
     "outputs": [
      {
       "html": [
        "<div style=\"max-height:1000px;max-width:1500px;overflow:auto;\">\n",
        "<table border=\"1\" class=\"dataframe\">\n",
        "  <thead>\n",
        "    <tr style=\"text-align: right;\">\n",
        "      <th></th>\n",
        "      <th>ID</th>\n",
        "      <th>Label</th>\n",
        "      <th>House</th>\n",
        "      <th>Year</th>\n",
        "      <th>Month</th>\n",
        "      <th>Temperature</th>\n",
        "      <th>Daylight</th>\n",
        "      <th>EnergyProduction</th>\n",
        "    </tr>\n",
        "  </thead>\n",
        "  <tbody>\n",
        "    <tr>\n",
        "      <th>0</th>\n",
        "      <td> 0</td>\n",
        "      <td> 0</td>\n",
        "      <td> 1</td>\n",
        "      <td> 2011</td>\n",
        "      <td>  7</td>\n",
        "      <td> 26.2</td>\n",
        "      <td> 178.9</td>\n",
        "      <td> 740</td>\n",
        "    </tr>\n",
        "    <tr>\n",
        "      <th>1</th>\n",
        "      <td> 1</td>\n",
        "      <td> 1</td>\n",
        "      <td> 1</td>\n",
        "      <td> 2011</td>\n",
        "      <td>  8</td>\n",
        "      <td> 25.8</td>\n",
        "      <td> 169.7</td>\n",
        "      <td> 731</td>\n",
        "    </tr>\n",
        "    <tr>\n",
        "      <th>2</th>\n",
        "      <td> 2</td>\n",
        "      <td> 2</td>\n",
        "      <td> 1</td>\n",
        "      <td> 2011</td>\n",
        "      <td>  9</td>\n",
        "      <td> 22.8</td>\n",
        "      <td> 170.2</td>\n",
        "      <td> 694</td>\n",
        "    </tr>\n",
        "    <tr>\n",
        "      <th>3</th>\n",
        "      <td> 3</td>\n",
        "      <td> 3</td>\n",
        "      <td> 1</td>\n",
        "      <td> 2011</td>\n",
        "      <td> 10</td>\n",
        "      <td> 16.4</td>\n",
        "      <td> 169.1</td>\n",
        "      <td> 688</td>\n",
        "    </tr>\n",
        "    <tr>\n",
        "      <th>4</th>\n",
        "      <td> 4</td>\n",
        "      <td> 4</td>\n",
        "      <td> 1</td>\n",
        "      <td> 2011</td>\n",
        "      <td> 11</td>\n",
        "      <td> 11.4</td>\n",
        "      <td> 169.1</td>\n",
        "      <td> 650</td>\n",
        "    </tr>\n",
        "  </tbody>\n",
        "</table>\n",
        "</div>"
       ],
       "metadata": {},
       "output_type": "pyout",
       "prompt_number": 6,
       "text": [
        "   ID  Label  House  Year  Month  Temperature  Daylight  EnergyProduction\n",
        "0   0      0      1  2011      7         26.2     178.9               740\n",
        "1   1      1      1  2011      8         25.8     169.7               731\n",
        "2   2      2      1  2011      9         22.8     170.2               694\n",
        "3   3      3      1  2011     10         16.4     169.1               688\n",
        "4   4      4      1  2011     11         11.4     169.1               650"
       ]
      }
     ],
     "prompt_number": 6
    },
    {
     "cell_type": "code",
     "collapsed": false,
     "input": [
      "df_training.head()"
     ],
     "language": "python",
     "metadata": {},
     "outputs": [
      {
       "html": [
        "<div style=\"max-height:1000px;max-width:1500px;overflow:auto;\">\n",
        "<table border=\"1\" class=\"dataframe\">\n",
        "  <thead>\n",
        "    <tr style=\"text-align: right;\">\n",
        "      <th></th>\n",
        "      <th>ID</th>\n",
        "      <th>Label</th>\n",
        "      <th>House</th>\n",
        "      <th>Year</th>\n",
        "      <th>Month</th>\n",
        "      <th>Temperature</th>\n",
        "      <th>Daylight</th>\n",
        "      <th>EnergyProduction</th>\n",
        "    </tr>\n",
        "  </thead>\n",
        "  <tbody>\n",
        "    <tr>\n",
        "      <th>0</th>\n",
        "      <td> 0</td>\n",
        "      <td> 0</td>\n",
        "      <td> 1</td>\n",
        "      <td> 2011</td>\n",
        "      <td>  7</td>\n",
        "      <td> 26.2</td>\n",
        "      <td> 178.9</td>\n",
        "      <td> 740</td>\n",
        "    </tr>\n",
        "    <tr>\n",
        "      <th>1</th>\n",
        "      <td> 1</td>\n",
        "      <td> 1</td>\n",
        "      <td> 1</td>\n",
        "      <td> 2011</td>\n",
        "      <td>  8</td>\n",
        "      <td> 25.8</td>\n",
        "      <td> 169.7</td>\n",
        "      <td> 731</td>\n",
        "    </tr>\n",
        "    <tr>\n",
        "      <th>2</th>\n",
        "      <td> 2</td>\n",
        "      <td> 2</td>\n",
        "      <td> 1</td>\n",
        "      <td> 2011</td>\n",
        "      <td>  9</td>\n",
        "      <td> 22.8</td>\n",
        "      <td> 170.2</td>\n",
        "      <td> 694</td>\n",
        "    </tr>\n",
        "    <tr>\n",
        "      <th>3</th>\n",
        "      <td> 3</td>\n",
        "      <td> 3</td>\n",
        "      <td> 1</td>\n",
        "      <td> 2011</td>\n",
        "      <td> 10</td>\n",
        "      <td> 16.4</td>\n",
        "      <td> 169.1</td>\n",
        "      <td> 688</td>\n",
        "    </tr>\n",
        "    <tr>\n",
        "      <th>4</th>\n",
        "      <td> 4</td>\n",
        "      <td> 4</td>\n",
        "      <td> 1</td>\n",
        "      <td> 2011</td>\n",
        "      <td> 11</td>\n",
        "      <td> 11.4</td>\n",
        "      <td> 169.1</td>\n",
        "      <td> 650</td>\n",
        "    </tr>\n",
        "  </tbody>\n",
        "</table>\n",
        "</div>"
       ],
       "metadata": {},
       "output_type": "pyout",
       "prompt_number": 7,
       "text": [
        "   ID  Label  House  Year  Month  Temperature  Daylight  EnergyProduction\n",
        "0   0      0      1  2011      7         26.2     178.9               740\n",
        "1   1      1      1  2011      8         25.8     169.7               731\n",
        "2   2      2      1  2011      9         22.8     170.2               694\n",
        "3   3      3      1  2011     10         16.4     169.1               688\n",
        "4   4      4      1  2011     11         11.4     169.1               650"
       ]
      }
     ],
     "prompt_number": 7
    },
    {
     "cell_type": "code",
     "collapsed": false,
     "input": [
      "df_test.head()"
     ],
     "language": "python",
     "metadata": {},
     "outputs": [
      {
       "html": [
        "<div style=\"max-height:1000px;max-width:1500px;overflow:auto;\">\n",
        "<table border=\"1\" class=\"dataframe\">\n",
        "  <thead>\n",
        "    <tr style=\"text-align: right;\">\n",
        "      <th></th>\n",
        "      <th>ID</th>\n",
        "      <th>Label</th>\n",
        "      <th>House</th>\n",
        "      <th>Year</th>\n",
        "      <th>Month</th>\n",
        "      <th>Temperature</th>\n",
        "      <th>Daylight</th>\n",
        "      <th>EnergyProduction</th>\n",
        "    </tr>\n",
        "  </thead>\n",
        "  <tbody>\n",
        "    <tr>\n",
        "      <th>0</th>\n",
        "      <td>  23</td>\n",
        "      <td> 23</td>\n",
        "      <td> 1</td>\n",
        "      <td> 2013</td>\n",
        "      <td> 6</td>\n",
        "      <td> 22.0</td>\n",
        "      <td> 125.5</td>\n",
        "      <td> 778</td>\n",
        "    </tr>\n",
        "    <tr>\n",
        "      <th>1</th>\n",
        "      <td>  47</td>\n",
        "      <td> 23</td>\n",
        "      <td> 2</td>\n",
        "      <td> 2013</td>\n",
        "      <td> 6</td>\n",
        "      <td> 21.1</td>\n",
        "      <td> 123.1</td>\n",
        "      <td> 627</td>\n",
        "    </tr>\n",
        "    <tr>\n",
        "      <th>2</th>\n",
        "      <td>  71</td>\n",
        "      <td> 23</td>\n",
        "      <td> 3</td>\n",
        "      <td> 2013</td>\n",
        "      <td> 6</td>\n",
        "      <td> 21.9</td>\n",
        "      <td> 126.8</td>\n",
        "      <td> 735</td>\n",
        "    </tr>\n",
        "    <tr>\n",
        "      <th>3</th>\n",
        "      <td>  95</td>\n",
        "      <td> 23</td>\n",
        "      <td> 4</td>\n",
        "      <td> 2013</td>\n",
        "      <td> 6</td>\n",
        "      <td> 20.2</td>\n",
        "      <td> 125.2</td>\n",
        "      <td> 533</td>\n",
        "    </tr>\n",
        "    <tr>\n",
        "      <th>4</th>\n",
        "      <td> 119</td>\n",
        "      <td> 23</td>\n",
        "      <td> 5</td>\n",
        "      <td> 2013</td>\n",
        "      <td> 6</td>\n",
        "      <td> 20.2</td>\n",
        "      <td> 125.2</td>\n",
        "      <td> 533</td>\n",
        "    </tr>\n",
        "  </tbody>\n",
        "</table>\n",
        "</div>"
       ],
       "metadata": {},
       "output_type": "pyout",
       "prompt_number": 8,
       "text": [
        "    ID  Label  House  Year  Month  Temperature  Daylight  EnergyProduction\n",
        "0   23     23      1  2013      6         22.0     125.5               778\n",
        "1   47     23      2  2013      6         21.1     123.1               627\n",
        "2   71     23      3  2013      6         21.9     126.8               735\n",
        "3   95     23      4  2013      6         20.2     125.2               533\n",
        "4  119     23      5  2013      6         20.2     125.2               533"
       ]
      }
     ],
     "prompt_number": 8
    },
    {
     "cell_type": "markdown",
     "metadata": {},
     "source": [
      "## Data Check"
     ]
    },
    {
     "cell_type": "markdown",
     "metadata": {},
     "source": [
      "#### check basic stats"
     ]
    },
    {
     "cell_type": "markdown",
     "metadata": {},
     "source": [
      "As test dataset has only June 2013, the numbers are not close to training dataset. As long as I see mean values, Temperature is higher, Daylight is lower, and EnergyProduction is close.  Especially Dailight is much lower probalby because of rainy season? "
     ]
    },
    {
     "cell_type": "code",
     "collapsed": false,
     "input": [
      "df_all[['Temperature','Daylight','EnergyProduction']].describe()"
     ],
     "language": "python",
     "metadata": {},
     "outputs": [
      {
       "html": [
        "<div style=\"max-height:1000px;max-width:1500px;overflow:auto;\">\n",
        "<table border=\"1\" class=\"dataframe\">\n",
        "  <thead>\n",
        "    <tr style=\"text-align: right;\">\n",
        "      <th></th>\n",
        "      <th>Temperature</th>\n",
        "      <th>Daylight</th>\n",
        "      <th>EnergyProduction</th>\n",
        "    </tr>\n",
        "  </thead>\n",
        "  <tbody>\n",
        "    <tr>\n",
        "      <th>count</th>\n",
        "      <td> 12000.000000</td>\n",
        "      <td> 12000.000000</td>\n",
        "      <td> 12000.000000</td>\n",
        "    </tr>\n",
        "    <tr>\n",
        "      <th>mean</th>\n",
        "      <td>    14.677892</td>\n",
        "      <td>   186.454767</td>\n",
        "      <td>   611.666583</td>\n",
        "    </tr>\n",
        "    <tr>\n",
        "      <th>std</th>\n",
        "      <td>     8.442057</td>\n",
        "      <td>    31.525892</td>\n",
        "      <td>   140.608265</td>\n",
        "    </tr>\n",
        "    <tr>\n",
        "      <th>min</th>\n",
        "      <td>     0.800000</td>\n",
        "      <td>   121.800000</td>\n",
        "      <td>   254.000000</td>\n",
        "    </tr>\n",
        "    <tr>\n",
        "      <th>25%</th>\n",
        "      <td>     6.175000</td>\n",
        "      <td>   167.100000</td>\n",
        "      <td>   509.000000</td>\n",
        "    </tr>\n",
        "    <tr>\n",
        "      <th>50%</th>\n",
        "      <td>    14.550000</td>\n",
        "      <td>   180.400000</td>\n",
        "      <td>   588.000000</td>\n",
        "    </tr>\n",
        "    <tr>\n",
        "      <th>75%</th>\n",
        "      <td>    22.700000</td>\n",
        "      <td>   204.300000</td>\n",
        "      <td>   695.000000</td>\n",
        "    </tr>\n",
        "    <tr>\n",
        "      <th>max</th>\n",
        "      <td>    29.000000</td>\n",
        "      <td>   271.300000</td>\n",
        "      <td>  1254.000000</td>\n",
        "    </tr>\n",
        "  </tbody>\n",
        "</table>\n",
        "</div>"
       ],
       "metadata": {},
       "output_type": "pyout",
       "prompt_number": 9,
       "text": [
        "        Temperature      Daylight  EnergyProduction\n",
        "count  12000.000000  12000.000000      12000.000000\n",
        "mean      14.677892    186.454767        611.666583\n",
        "std        8.442057     31.525892        140.608265\n",
        "min        0.800000    121.800000        254.000000\n",
        "25%        6.175000    167.100000        509.000000\n",
        "50%       14.550000    180.400000        588.000000\n",
        "75%       22.700000    204.300000        695.000000\n",
        "max       29.000000    271.300000       1254.000000"
       ]
      }
     ],
     "prompt_number": 9
    },
    {
     "cell_type": "code",
     "collapsed": false,
     "input": [
      "df_training[['Temperature','Daylight','EnergyProduction']].describe()"
     ],
     "language": "python",
     "metadata": {},
     "outputs": [
      {
       "html": [
        "<div style=\"max-height:1000px;max-width:1500px;overflow:auto;\">\n",
        "<table border=\"1\" class=\"dataframe\">\n",
        "  <thead>\n",
        "    <tr style=\"text-align: right;\">\n",
        "      <th></th>\n",
        "      <th>Temperature</th>\n",
        "      <th>Daylight</th>\n",
        "      <th>EnergyProduction</th>\n",
        "    </tr>\n",
        "  </thead>\n",
        "  <tbody>\n",
        "    <tr>\n",
        "      <th>count</th>\n",
        "      <td> 11500.000000</td>\n",
        "      <td> 11500.000000</td>\n",
        "      <td> 11500.000000</td>\n",
        "    </tr>\n",
        "    <tr>\n",
        "      <th>mean</th>\n",
        "      <td>    14.372348</td>\n",
        "      <td>   189.121870</td>\n",
        "      <td>   612.748870</td>\n",
        "    </tr>\n",
        "    <tr>\n",
        "      <th>std</th>\n",
        "      <td>     8.490811</td>\n",
        "      <td>    29.432125</td>\n",
        "      <td>   142.006144</td>\n",
        "    </tr>\n",
        "    <tr>\n",
        "      <th>min</th>\n",
        "      <td>     0.800000</td>\n",
        "      <td>   133.700000</td>\n",
        "      <td>   254.000000</td>\n",
        "    </tr>\n",
        "    <tr>\n",
        "      <th>25%</th>\n",
        "      <td>     5.300000</td>\n",
        "      <td>   169.100000</td>\n",
        "      <td>   509.000000</td>\n",
        "    </tr>\n",
        "    <tr>\n",
        "      <th>50%</th>\n",
        "      <td>    13.200000</td>\n",
        "      <td>   181.800000</td>\n",
        "      <td>   592.000000</td>\n",
        "    </tr>\n",
        "    <tr>\n",
        "      <th>75%</th>\n",
        "      <td>    22.800000</td>\n",
        "      <td>   205.200000</td>\n",
        "      <td>   698.000000</td>\n",
        "    </tr>\n",
        "    <tr>\n",
        "      <th>max</th>\n",
        "      <td>    29.000000</td>\n",
        "      <td>   271.300000</td>\n",
        "      <td>  1254.000000</td>\n",
        "    </tr>\n",
        "  </tbody>\n",
        "</table>\n",
        "</div>"
       ],
       "metadata": {},
       "output_type": "pyout",
       "prompt_number": 10,
       "text": [
        "        Temperature      Daylight  EnergyProduction\n",
        "count  11500.000000  11500.000000      11500.000000\n",
        "mean      14.372348    189.121870        612.748870\n",
        "std        8.490811     29.432125        142.006144\n",
        "min        0.800000    133.700000        254.000000\n",
        "25%        5.300000    169.100000        509.000000\n",
        "50%       13.200000    181.800000        592.000000\n",
        "75%       22.800000    205.200000        698.000000\n",
        "max       29.000000    271.300000       1254.000000"
       ]
      }
     ],
     "prompt_number": 10
    },
    {
     "cell_type": "code",
     "collapsed": false,
     "input": [
      "df_test[['Temperature','Daylight','EnergyProduction']].describe()"
     ],
     "language": "python",
     "metadata": {},
     "outputs": [
      {
       "html": [
        "<div style=\"max-height:1000px;max-width:1500px;overflow:auto;\">\n",
        "<table border=\"1\" class=\"dataframe\">\n",
        "  <thead>\n",
        "    <tr style=\"text-align: right;\">\n",
        "      <th></th>\n",
        "      <th>Temperature</th>\n",
        "      <th>Daylight</th>\n",
        "      <th>EnergyProduction</th>\n",
        "    </tr>\n",
        "  </thead>\n",
        "  <tbody>\n",
        "    <tr>\n",
        "      <th>count</th>\n",
        "      <td> 500.00000</td>\n",
        "      <td> 500.000000</td>\n",
        "      <td> 500.000000</td>\n",
        "    </tr>\n",
        "    <tr>\n",
        "      <th>mean</th>\n",
        "      <td>  21.70540</td>\n",
        "      <td> 125.111400</td>\n",
        "      <td> 586.774000</td>\n",
        "    </tr>\n",
        "    <tr>\n",
        "      <th>std</th>\n",
        "      <td>   0.86661</td>\n",
        "      <td>   1.595726</td>\n",
        "      <td> 100.292653</td>\n",
        "    </tr>\n",
        "    <tr>\n",
        "      <th>min</th>\n",
        "      <td>  19.30000</td>\n",
        "      <td> 121.800000</td>\n",
        "      <td> 451.000000</td>\n",
        "    </tr>\n",
        "    <tr>\n",
        "      <th>25%</th>\n",
        "      <td>  21.10000</td>\n",
        "      <td> 123.900000</td>\n",
        "      <td> 518.000000</td>\n",
        "    </tr>\n",
        "    <tr>\n",
        "      <th>50%</th>\n",
        "      <td>  21.90000</td>\n",
        "      <td> 125.200000</td>\n",
        "      <td> 565.000000</td>\n",
        "    </tr>\n",
        "    <tr>\n",
        "      <th>75%</th>\n",
        "      <td>  22.50000</td>\n",
        "      <td> 126.000000</td>\n",
        "      <td> 668.000000</td>\n",
        "    </tr>\n",
        "    <tr>\n",
        "      <th>max</th>\n",
        "      <td>  22.80000</td>\n",
        "      <td> 129.100000</td>\n",
        "      <td> 886.000000</td>\n",
        "    </tr>\n",
        "  </tbody>\n",
        "</table>\n",
        "</div>"
       ],
       "metadata": {},
       "output_type": "pyout",
       "prompt_number": 11,
       "text": [
        "       Temperature    Daylight  EnergyProduction\n",
        "count    500.00000  500.000000        500.000000\n",
        "mean      21.70540  125.111400        586.774000\n",
        "std        0.86661    1.595726        100.292653\n",
        "min       19.30000  121.800000        451.000000\n",
        "25%       21.10000  123.900000        518.000000\n",
        "50%       21.90000  125.200000        565.000000\n",
        "75%       22.50000  126.000000        668.000000\n",
        "max       22.80000  129.100000        886.000000"
       ]
      }
     ],
     "prompt_number": 11
    },
    {
     "cell_type": "markdown",
     "metadata": {},
     "source": [
      "#### Plot Energy Production to see relations between each feature\n",
      "\n",
      "Looks like Daylight could have positive corelation with energy production"
     ]
    },
    {
     "cell_type": "code",
     "collapsed": false,
     "input": [
      "import pylab"
     ],
     "language": "python",
     "metadata": {},
     "outputs": [],
     "prompt_number": 12
    },
    {
     "cell_type": "code",
     "collapsed": false,
     "input": [
      "for feature in ['Temperature','Daylight']:\n",
      "    pylab.figure()\n",
      "    pylab.plot(df_all[feature], df_all.EnergyProduction, '.')\n",
      "    m,b = pylab.polyfit(df_all[feature], df_all.EnergyProduction, 1)\n",
      "    pylab.plot(df_all[feature], m * df_all[feature] + b, 'r')\n",
      "    pylab.ylabel('Energy Production')\n",
      "    pylab.xlabel(feature)\n",
      "    pylab.title('Energy Prodution aginst ' + feature)"
     ],
     "language": "python",
     "metadata": {},
     "outputs": [
      {
       "metadata": {},
       "output_type": "display_data",
       "png": "[encoded data removed]",
       "text": [
        "<matplotlib.figure.Figure at 0x10f9a1e10>"
       ]
      },
      {
       "metadata": {},
       "output_type": "display_data",
       "png": "[encoded data removed]",
       "text": [
        "<matplotlib.figure.Figure at 0x10f9cc650>"
       ]
      }
     ],
     "prompt_number": 13
    },
    {
     "cell_type": "markdown",
     "metadata": {},
     "source": [
      "umm, it is less than 0.5.."
     ]
    },
    {
     "cell_type": "code",
     "collapsed": false,
     "input": [
      "import scipy.stats\n",
      "scipy.stats.pearsonr(df_all['Daylight'],df_all['EnergyProduction'])"
     ],
     "language": "python",
     "metadata": {},
     "outputs": [
      {
       "metadata": {},
       "output_type": "pyout",
       "prompt_number": 14,
       "text": [
        "(0.4956236868914824, 0.0)"
       ]
      }
     ],
     "prompt_number": 14
    },
    {
     "cell_type": "markdown",
     "metadata": {},
     "source": [
      "#### Plot energy production range each month"
     ]
    },
    {
     "cell_type": "markdown",
     "metadata": {},
     "source": [
      "I see some seasonality here. Generally, energy production is high in summer season (May to Aug) and low in winter season(Oct to Feb).  It is a bit low in June and July which is probably because of rainy season.\n",
      "\n",
      "Plot for each year doen't help really as each year does not have same months in this dataset."
     ]
    },
    {
     "cell_type": "code",
     "collapsed": false,
     "input": [
      "for term in ['Month', 'Year']:\n",
      "    EnergyProduction_term = []\n",
      "    for index in df_all[term].unique():\n",
      "        EnergyProduction_term.append(df_all[df_all[term] == index].EnergyProduction)\n",
      "    pylab.figure()\n",
      "    pylab.boxplot(EnergyProduction_term,positions=df_all[term].unique())\n",
      "    pylab.ylabel('Energy Production')\n",
      "    pylab.xlabel(term)\n",
      "    pylab.title('Box plot of Energy Production each ' + term)"
     ],
     "language": "python",
     "metadata": {},
     "outputs": [
      {
       "metadata": {},
       "output_type": "display_data",
       "png": "[encoded data removed]",
       "text": [
        "<matplotlib.figure.Figure at 0x10f9e7590>"
       ]
      },
      {
       "metadata": {},
       "output_type": "display_data",
       "png": "[encoded data removed]",
       "text": [
        "<matplotlib.figure.Figure at 0x112435790>"
       ]
      }
     ],
     "prompt_number": 15
    },
    {
     "cell_type": "markdown",
     "metadata": {},
     "source": [
      "#### box plot for each house\n",
      "\n",
      "plot only first 30 houses as it's too many to plot.  looks like it has more variances than other features."
     ]
    },
    {
     "cell_type": "code",
     "collapsed": false,
     "input": [
      "sample_houses = df_all['House'].unique()[0:30]\n",
      "EnergyProduction_house = []\n",
      "for house in sample_houses:\n",
      "    EnergyProduction_house.append(df_all[df_all['House'] == house].EnergyProduction)\n",
      "\n",
      "figure(figsize=(12, 4))\n",
      "pylab.boxplot(EnergyProduction_house,positions=sample_houses)\n",
      "pylab.ylabel('Energy Production')\n",
      "pylab.xlabel('House')\n",
      "pylab.title('Box plot of Energy Production each House')"
     ],
     "language": "python",
     "metadata": {},
     "outputs": [
      {
       "metadata": {},
       "output_type": "pyout",
       "prompt_number": 16,
       "text": [
        "<matplotlib.text.Text at 0x11044e4d0>"
       ]
      },
      {
       "metadata": {},
       "output_type": "display_data",
       "png": "[encoded data removed]",
       "text": [
        "<matplotlib.figure.Figure at 0x10f9dfd50>"
       ]
      }
     ],
     "prompt_number": 16
    },
    {
     "cell_type": "markdown",
     "metadata": {},
     "source": [
      "## Prediction"
     ]
    },
    {
     "cell_type": "markdown",
     "metadata": {},
     "source": [
      "From some data exploration above, I think these parameters are likely to help my prediction.\n",
      "\n",
      "- Daylight\n",
      "- Month\n",
      "- House"
     ]
    },
    {
     "cell_type": "markdown",
     "metadata": {},
     "source": [
      "Define function \"test\" for prediction"
     ]
    },
    {
     "cell_type": "code",
     "collapsed": false,
     "input": [
      "import scipy.stats\n",
      "def test(predictions):\n",
      "    errors = df_test.EnergyProduction - predictions\n",
      "    mape = average(abs((df_test.EnergyProduction - predictions) / df_test.EnergyProduction))\n",
      "    return mape\n",
      "\n",
      "def test_training(predictions):\n",
      "    errors = df_training.EnergyProduction - predictions\n",
      "    mape = average(abs((df_training.EnergyProduction - predictions) / df_training.EnergyProduction))\n",
      "    return mape"
     ],
     "language": "python",
     "metadata": {},
     "outputs": [],
     "prompt_number": 32
    },
    {
     "cell_type": "markdown",
     "metadata": {},
     "source": [
      "#### Simple Linear Regression with Daylight - 21.5%"
     ]
    },
    {
     "cell_type": "code",
     "collapsed": false,
     "input": [
      "slope, intercept, r_value, p_value, std_err = scipy.stats.linregress(df_training.Daylight, df_training.EnergyProduction)"
     ],
     "language": "python",
     "metadata": {},
     "outputs": []
    },
    {
     "cell_type": "markdown",
     "metadata": {},
     "source": [
      "Training Dataset"
     ]
    },
    {
     "cell_type": "code",
     "collapsed": false,
     "input": [
      "predictions = intercept + slope * df_training.Daylight\n",
      "mape = test_training(predictions)\n",
      "round(mape * 100, 1)"
     ],
     "language": "python",
     "metadata": {},
     "outputs": [
      {
       "metadata": {},
       "output_type": "pyout",
       "prompt_number": 33,
       "text": [
        "16.1"
       ]
      }
     ],
     "prompt_number": 33
    },
    {
     "cell_type": "markdown",
     "metadata": {},
     "source": [
      "Test Dataset"
     ]
    },
    {
     "cell_type": "code",
     "collapsed": false,
     "input": [
      "predictions = intercept + slope * df_test.Daylight\n",
      "mape = test(predictions)\n",
      "round(mape * 100, 1)"
     ],
     "language": "python",
     "metadata": {},
     "outputs": [
      {
       "metadata": {},
       "output_type": "pyout",
       "prompt_number": 34,
       "text": [
        "21.5"
       ]
      }
     ],
     "prompt_number": 34
    },
    {
     "cell_type": "markdown",
     "metadata": {},
     "source": [
      "#### Adjust by monthly EnergyProduction - 21.8%\n",
      "\n",
      "As the dataset has some monthly seasonality, I added monthly adjustment. However, prediction target (June) was almost average and did not change the accuracy almost at all."
     ]
    },
    {
     "cell_type": "code",
     "collapsed": false,
     "input": [
      "monthly_average = df_training.groupby('Month').EnergyProduction.apply(lambda v: average(v))\n",
      "monthly_adjustment = monthly_average / average(monthly_average)\n",
      "monthly_adjustment.name = \"Adjustment\"\n",
      "monthly_adjustment"
     ],
     "language": "python",
     "metadata": {},
     "outputs": [
      {
       "metadata": {},
       "output_type": "pyout",
       "prompt_number": 26,
       "text": [
        "Month\n",
        "1        0.961662\n",
        "2        0.912524\n",
        "3        1.047886\n",
        "4        1.117442\n",
        "5        1.255718\n",
        "6        0.995731\n",
        "7        1.055507\n",
        "8        1.143248\n",
        "9        0.961058\n",
        "10       0.909154\n",
        "11       0.795145\n",
        "12       0.844924\n",
        "Name: Adjustment, dtype: float64"
       ]
      }
     ],
     "prompt_number": 26
    },
    {
     "cell_type": "markdown",
     "metadata": {},
     "source": [
      "Training Dataset"
     ]
    },
    {
     "cell_type": "code",
     "collapsed": false,
     "input": [
      "adjustments = df_training.join(monthly_adjustment , 'Month').Adjustment\n",
      "predictions = (intercept + slope * df_training.Daylight) * adjustments\n",
      "mape = test_training(predictions)\n",
      "round(mape * 100, 1)"
     ],
     "language": "python",
     "metadata": {},
     "outputs": [
      {
       "metadata": {},
       "output_type": "pyout",
       "prompt_number": 35,
       "text": [
        "14.7"
       ]
      }
     ],
     "prompt_number": 35
    },
    {
     "cell_type": "markdown",
     "metadata": {},
     "source": [
      "Test Dataset"
     ]
    },
    {
     "cell_type": "code",
     "collapsed": false,
     "input": [
      "adjustments = df_test.join(monthly_adjustment , 'Month').Adjustment\n",
      "predictions = (intercept + slope * df_test.Daylight) * adjustments\n",
      "mape = test(predictions)\n",
      "round(mape * 100, 1)"
     ],
     "language": "python",
     "metadata": {},
     "outputs": [
      {
       "metadata": {},
       "output_type": "pyout",
       "prompt_number": 36,
       "text": [
        "21.8"
       ]
      }
     ],
     "prompt_number": 36
    },
    {
     "cell_type": "markdown",
     "metadata": {},
     "source": [
      "#### Create models for each house - 19.7%\n",
      "\n",
      "Unfortunately, this does not help either."
     ]
    },
    {
     "cell_type": "code",
     "collapsed": false,
     "input": [
      "slopes = {}\n",
      "intercepts = {}\n",
      "for house, group in df_training.groupby('House'):\n",
      "    slope, intercept, r_value, p_value, std_err = scipy.stats.linregress(group.Daylight, group.EnergyProduction)\n",
      "    slopes[house] = slope\n",
      "    intercepts[house] = intercept"
     ],
     "language": "python",
     "metadata": {},
     "outputs": [],
     "prompt_number": 39
    },
    {
     "cell_type": "code",
     "collapsed": false,
     "input": [
      "predictions = {}\n",
      "for i, entry in df_training.iterrows():\n",
      "    prediction = intercepts[entry['House']] + slopes[entry['House']] * entry['Daylight']\n",
      "    predictions[i] = prediction\n",
      "    \n",
      "predictions = pandas.Series(predictions)\n",
      "mape = test_training(predictions)\n",
      "round(mape * 100, 1)"
     ],
     "language": "python",
     "metadata": {},
     "outputs": [
      {
       "metadata": {},
       "output_type": "pyout",
       "prompt_number": 52,
       "text": [
        "10.3"
       ]
      }
     ],
     "prompt_number": 52
    },
    {
     "cell_type": "code",
     "collapsed": false,
     "input": [
      "predictions = {}\n",
      "for i, entry in df_test.iterrows():\n",
      "    prediction = intercepts[entry['House']] + slopes[entry['House']] * entry['Daylight']\n",
      "    predictions[i] = prediction\n",
      "    \n",
      "predictions = pandas.Series(predictions)\n",
      "mape = test(predictions)\n",
      "round(mape * 100, 1)"
     ],
     "language": "python",
     "metadata": {},
     "outputs": [
      {
       "metadata": {},
       "output_type": "pyout",
       "prompt_number": 50,
       "text": [
        "19.7"
       ]
      }
     ],
     "prompt_number": 50
    },
    {
     "cell_type": "markdown",
     "metadata": {},
     "source": [
      "## Output"
     ]
    }
   ],
   "metadata": {}
  }
 ]
}