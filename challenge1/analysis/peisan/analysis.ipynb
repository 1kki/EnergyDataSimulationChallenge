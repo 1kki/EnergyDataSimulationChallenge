{
 "metadata": {
  "name": ""
 },
 "nbformat": 3,
 "nbformat_minor": 0,
 "worksheets": [
  {
   "cells": [
    {
     "cell_type": "markdown",
     "metadata": {},
     "source": [
      "# This notbook is for challenge2 of Cambridge Energy Data Lab GitHub tasks\n",
      "\n",
      "URL: https://github.com/camenergydatalab/EnergyDataSimulationChallenge"
     ]
    },
    {
     "cell_type": "markdown",
     "metadata": {},
     "source": [
      "## Data Import"
     ]
    },
    {
     "cell_type": "markdown",
     "metadata": {},
     "source": [
      "## Data Check"
     ]
    },
    {
     "cell_type": "markdown",
     "metadata": {},
     "source": [
      "## Prediction"
     ]
    },
    {
     "cell_type": "markdown",
     "metadata": {},
     "source": [
      "## Data Output"
     ]
    }
   ],
   "metadata": {}
  }
 ]
}