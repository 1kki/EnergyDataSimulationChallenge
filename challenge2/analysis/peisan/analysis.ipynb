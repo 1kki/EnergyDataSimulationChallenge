{
 "metadata": {
  "name": ""
 },
 "nbformat": 3,
 "nbformat_minor": 0,
 "worksheets": [
  {
   "cells": [
    {
     "cell_type": "raw",
     "metadata": {},
     "source": [
      "This notbook is for challenge2 of Cambridge Energy Data Lab GitHub tasks\n",
      "https://github.com/camenergydatalab/EnergyDataSimulationChallenge"
     ]
    },
    {
     "cell_type": "code",
     "collapsed": false,
     "input": [
      "import pandas\n",
      "import pylab"
     ],
     "language": "python",
     "metadata": {},
     "outputs": [],
     "prompt_number": 290
    },
    {
     "cell_type": "raw",
     "metadata": {},
     "source": [
      "1. Download the data-set total-watt.csv\n",
      "2. The data-set consists of two columns: a time stamp and the energy consumption\n",
      "\n",
      "Load data file as pandas DataFrame"
     ]
    },
    {
     "cell_type": "code",
     "collapsed": false,
     "input": [
      "df_total_watt = pandas.read_table('../../data/total_watt.csv', sep=',', header=None, names=['datetime', 'consumption' ], parse_dates=['datetime'])"
     ],
     "language": "python",
     "metadata": {},
     "outputs": [],
     "prompt_number": 189
    },
    {
     "cell_type": "code",
     "collapsed": false,
     "input": [
      "df_total_watt"
     ],
     "language": "python",
     "metadata": {},
     "outputs": [
      {
       "html": [
        "<pre>\n",
        "&lt;class 'pandas.core.frame.DataFrame'&gt;\n",
        "Int64Index: 1601 entries, 0 to 1600\n",
        "Data columns (total 2 columns):\n",
        "datetime       1601  non-null values\n",
        "consumption    1601  non-null values\n",
        "dtypes: datetime64[ns](1), float64(1)\n",
        "</pre>"
       ],
       "metadata": {},
       "output_type": "pyout",
       "prompt_number": 190,
       "text": [
        "<class 'pandas.core.frame.DataFrame'>\n",
        "Int64Index: 1601 entries, 0 to 1600\n",
        "Data columns (total 2 columns):\n",
        "datetime       1601  non-null values\n",
        "consumption    1601  non-null values\n",
        "dtypes: datetime64[ns](1), float64(1)"
       ]
      }
     ],
     "prompt_number": 190
    },
    {
     "cell_type": "code",
     "collapsed": false,
     "input": [
      "df_total_watt.head()"
     ],
     "language": "python",
     "metadata": {},
     "outputs": [
      {
       "html": [
        "<div style=\"max-height:1000px;max-width:1500px;overflow:auto;\">\n",
        "<table border=\"1\" class=\"dataframe\">\n",
        "  <thead>\n",
        "    <tr style=\"text-align: right;\">\n",
        "      <th></th>\n",
        "      <th>datetime</th>\n",
        "      <th>consumption</th>\n",
        "    </tr>\n",
        "  </thead>\n",
        "  <tbody>\n",
        "    <tr>\n",
        "      <th>0</th>\n",
        "      <td>2011-04-18 13:22:00</td>\n",
        "      <td> 925.840614</td>\n",
        "    </tr>\n",
        "    <tr>\n",
        "      <th>1</th>\n",
        "      <td>2011-04-18 13:52:00</td>\n",
        "      <td> 483.295892</td>\n",
        "    </tr>\n",
        "    <tr>\n",
        "      <th>2</th>\n",
        "      <td>2011-04-18 14:22:00</td>\n",
        "      <td> 915.761634</td>\n",
        "    </tr>\n",
        "    <tr>\n",
        "      <th>3</th>\n",
        "      <td>2011-04-18 14:52:00</td>\n",
        "      <td> 609.043491</td>\n",
        "    </tr>\n",
        "    <tr>\n",
        "      <th>4</th>\n",
        "      <td>2011-04-18 15:22:00</td>\n",
        "      <td> 745.155434</td>\n",
        "    </tr>\n",
        "  </tbody>\n",
        "</table>\n",
        "</div>"
       ],
       "metadata": {},
       "output_type": "pyout",
       "prompt_number": 191,
       "text": [
        "             datetime  consumption\n",
        "0 2011-04-18 13:22:00   925.840614\n",
        "1 2011-04-18 13:52:00   483.295892\n",
        "2 2011-04-18 14:22:00   915.761634\n",
        "3 2011-04-18 14:52:00   609.043491\n",
        "4 2011-04-18 15:22:00   745.155434"
       ]
      }
     ],
     "prompt_number": 191
    },
    {
     "cell_type": "raw",
     "metadata": {},
     "source": [
      "3. visualise the data-set\n",
      "\n",
      "Simply Visualize the Dataset as it is"
     ]
    },
    {
     "cell_type": "code",
     "collapsed": false,
     "input": [
      "pylab.plot(df_total_watt.datetime, df_total_watt.consumption)\n",
      "pylab.ylabel('consumption (Wh)')\n",
      "pylab.xlabel('time')\n",
      "pylab.title('energy consumption per 30mins')"
     ],
     "language": "python",
     "metadata": {},
     "outputs": [
      {
       "metadata": {},
       "output_type": "pyout",
       "prompt_number": 289,
       "text": [
        "<matplotlib.text.Text at 0x1230c9e50>"
       ]
      },
      {
       "metadata": {},
       "output_type": "display_data",
       "png": "[encoded data removed]",
       "text": [
        "<matplotlib.figure.Figure at 0x1230bcbd0>"
       ]
      }
     ],
     "prompt_number": 289
    },
    {
     "cell_type": "raw",
     "metadata": {},
     "source": [
      "Visualize changes per 30mins"
     ]
    },
    {
     "cell_type": "code",
     "collapsed": false,
     "input": [
      "pylab.plot(df_total_watt.datetime, df_total_watt.consumption.diff())\n",
      "pylab.ylabel('consumption change (Wh)')\n",
      "pylab.xlabel('time')\n",
      "pylab.title('energy consumption change per 30mins')"
     ],
     "language": "python",
     "metadata": {},
     "outputs": [
      {
       "metadata": {},
       "output_type": "pyout",
       "prompt_number": 287,
       "text": [
        "<matplotlib.text.Text at 0x122f8ae50>"
       ]
      },
      {
       "metadata": {},
       "output_type": "display_data",
       "png": "[encoded data removed]",
       "text": [
        "<matplotlib.figure.Figure at 0x120ed4390>"
       ]
      }
     ],
     "prompt_number": 287
    },
    {
     "cell_type": "raw",
     "metadata": {},
     "source": [
      "4. visualise the data-set as values per day\n",
      "\n",
      "Group by date"
     ]
    },
    {
     "cell_type": "code",
     "collapsed": false,
     "input": [
      "df_total_watt['date'] = [dt.date() for dt in df_total_watt['datetime']]\n",
      "df_total_watt_daily = df_total_watt.groupby('date').sum().reset_index()"
     ],
     "language": "python",
     "metadata": {},
     "outputs": [],
     "prompt_number": 194
    },
    {
     "cell_type": "code",
     "collapsed": false,
     "input": [
      "df_total_watt_daily.head()"
     ],
     "language": "python",
     "metadata": {},
     "outputs": [
      {
       "html": [
        "<div style=\"max-height:1000px;max-width:1500px;overflow:auto;\">\n",
        "<table border=\"1\" class=\"dataframe\">\n",
        "  <thead>\n",
        "    <tr style=\"text-align: right;\">\n",
        "      <th></th>\n",
        "      <th>date</th>\n",
        "      <th>consumption</th>\n",
        "    </tr>\n",
        "  </thead>\n",
        "  <tbody>\n",
        "    <tr>\n",
        "      <th>0</th>\n",
        "      <td> 2011-04-18</td>\n",
        "      <td> 17105.982347</td>\n",
        "    </tr>\n",
        "    <tr>\n",
        "      <th>1</th>\n",
        "      <td> 2011-04-19</td>\n",
        "      <td> 30440.466453</td>\n",
        "    </tr>\n",
        "    <tr>\n",
        "      <th>2</th>\n",
        "      <td> 2011-04-20</td>\n",
        "      <td> 24027.226338</td>\n",
        "    </tr>\n",
        "    <tr>\n",
        "      <th>3</th>\n",
        "      <td> 2011-04-21</td>\n",
        "      <td> 17475.725746</td>\n",
        "    </tr>\n",
        "    <tr>\n",
        "      <th>4</th>\n",
        "      <td> 2011-04-22</td>\n",
        "      <td> 18776.278103</td>\n",
        "    </tr>\n",
        "  </tbody>\n",
        "</table>\n",
        "</div>"
       ],
       "metadata": {},
       "output_type": "pyout",
       "prompt_number": 195,
       "text": [
        "         date   consumption\n",
        "0  2011-04-18  17105.982347\n",
        "1  2011-04-19  30440.466453\n",
        "2  2011-04-20  24027.226338\n",
        "3  2011-04-21  17475.725746\n",
        "4  2011-04-22  18776.278103"
       ]
      }
     ],
     "prompt_number": 195
    },
    {
     "cell_type": "code",
     "collapsed": false,
     "input": [
      "pylab.bar(df_total_watt_daily.date, df_total_watt_daily.consumption)\n",
      "pylab.ylabel('consumption(Wh)')\n",
      "pylab.xlabel('date')\n",
      "pylab.title('energy consumption per day')"
     ],
     "language": "python",
     "metadata": {},
     "outputs": [
      {
       "metadata": {},
       "output_type": "pyout",
       "prompt_number": 263,
       "text": [
        "<matplotlib.text.Text at 0x11fd02790>"
       ]
      },
      {
       "metadata": {},
       "output_type": "display_data",
       "png": "[encoded data removed]",
       "text": [
        "<matplotlib.figure.Figure at 0x11f9e00d0>"
       ]
      }
     ],
     "prompt_number": 263
    },
    {
     "cell_type": "raw",
     "metadata": {},
     "source": [
      "5. cluster the values per day into 3 groups: low, medium, and high energy consumption"
     ]
    },
    {
     "cell_type": "raw",
     "metadata": {},
     "source": [
      "Quickly check basic stats"
     ]
    },
    {
     "cell_type": "code",
     "collapsed": false,
     "input": [
      "df_total_watt_daily.consumption.mean()"
     ],
     "language": "python",
     "metadata": {},
     "outputs": [
      {
       "metadata": {},
       "output_type": "pyout",
       "prompt_number": 209,
       "text": [
        "23319.210323071136"
       ]
      }
     ],
     "prompt_number": 209
    },
    {
     "cell_type": "code",
     "collapsed": false,
     "input": [
      "df_total_watt_daily.consumption.max()"
     ],
     "language": "python",
     "metadata": {},
     "outputs": [
      {
       "metadata": {},
       "output_type": "pyout",
       "prompt_number": 208,
       "text": [
        "66411.83563181512"
       ]
      }
     ],
     "prompt_number": 208
    },
    {
     "cell_type": "code",
     "collapsed": false,
     "input": [
      "df_total_watt_daily.consumption.min()"
     ],
     "language": "python",
     "metadata": {},
     "outputs": [
      {
       "metadata": {},
       "output_type": "pyout",
       "prompt_number": 210,
       "text": [
        "8278.602258201332"
       ]
      }
     ],
     "prompt_number": 210
    },
    {
     "cell_type": "code",
     "collapsed": false,
     "input": [
      "df_total_watt_daily.consumption.std()"
     ],
     "language": "python",
     "metadata": {},
     "outputs": [
      {
       "metadata": {},
       "output_type": "pyout",
       "prompt_number": 212,
       "text": [
        "14109.683225795812"
       ]
      }
     ],
     "prompt_number": 212
    },
    {
     "cell_type": "raw",
     "metadata": {},
     "source": [
      "define high, low and mean as follows\n",
      "\n",
      "high > mean + std\n",
      "low < mean - std\n",
      "mean - std <= medium <= mean + std"
     ]
    },
    {
     "cell_type": "code",
     "collapsed": false,
     "input": [
      "df_total_watt_daily_high = df_total_watt_daily[df_total_watt_daily.consumption > df_total_watt_daily.consumption.mean() + df_total_watt_daily.consumption.std()]"
     ],
     "language": "python",
     "metadata": {},
     "outputs": [],
     "prompt_number": 279
    },
    {
     "cell_type": "code",
     "collapsed": false,
     "input": [
      "df_total_watt_daily_low = df_total_watt_daily[df_total_watt_daily.consumption < df_total_watt_daily.consumption.mean() - df_total_watt_daily.consumption.std()]"
     ],
     "language": "python",
     "metadata": {},
     "outputs": [],
     "prompt_number": 280
    },
    {
     "cell_type": "code",
     "collapsed": false,
     "input": [
      "df_total_watt_daily_middle = df_total_watt_daily[df_total_watt_daily.consumption <= df_total_watt_daily.consumption.mean() + df_total_watt_daily.consumption.std()]\n",
      "df_total_watt_daily_middle = df_total_watt_daily_middle[df_total_watt_daily_middle.consumption >= df_total_watt_daily.consumption.mean() - df_total_watt_daily.consumption.std()]"
     ],
     "language": "python",
     "metadata": {},
     "outputs": [],
     "prompt_number": 281
    },
    {
     "cell_type": "code",
     "collapsed": false,
     "input": [
      "df_total_watt_daily_low"
     ],
     "language": "python",
     "metadata": {},
     "outputs": [
      {
       "html": [
        "<div style=\"max-height:1000px;max-width:1500px;overflow:auto;\">\n",
        "<table border=\"1\" class=\"dataframe\">\n",
        "  <thead>\n",
        "    <tr style=\"text-align: right;\">\n",
        "      <th></th>\n",
        "      <th>date</th>\n",
        "      <th>consumption</th>\n",
        "    </tr>\n",
        "  </thead>\n",
        "  <tbody>\n",
        "    <tr>\n",
        "      <th>16</th>\n",
        "      <td> 2011-05-06</td>\n",
        "      <td> 8278.602258</td>\n",
        "    </tr>\n",
        "  </tbody>\n",
        "</table>\n",
        "</div>"
       ],
       "metadata": {},
       "output_type": "pyout",
       "prompt_number": 282,
       "text": [
        "          date  consumption\n",
        "16  2011-05-06  8278.602258"
       ]
      }
     ],
     "prompt_number": 282
    },
    {
     "cell_type": "code",
     "collapsed": false,
     "input": [
      "df_total_watt_daily_high"
     ],
     "language": "python",
     "metadata": {},
     "outputs": [
      {
       "html": [
        "<div style=\"max-height:1000px;max-width:1500px;overflow:auto;\">\n",
        "<table border=\"1\" class=\"dataframe\">\n",
        "  <thead>\n",
        "    <tr style=\"text-align: right;\">\n",
        "      <th></th>\n",
        "      <th>date</th>\n",
        "      <th>consumption</th>\n",
        "    </tr>\n",
        "  </thead>\n",
        "  <tbody>\n",
        "    <tr>\n",
        "      <th>5 </th>\n",
        "      <td> 2011-04-23</td>\n",
        "      <td> 41551.530034</td>\n",
        "    </tr>\n",
        "    <tr>\n",
        "      <th>6 </th>\n",
        "      <td> 2011-04-24</td>\n",
        "      <td> 58647.570168</td>\n",
        "    </tr>\n",
        "    <tr>\n",
        "      <th>12</th>\n",
        "      <td> 2011-04-30</td>\n",
        "      <td> 66411.835632</td>\n",
        "    </tr>\n",
        "    <tr>\n",
        "      <th>13</th>\n",
        "      <td> 2011-05-01</td>\n",
        "      <td> 42598.899117</td>\n",
        "    </tr>\n",
        "    <tr>\n",
        "      <th>32</th>\n",
        "      <td> 2011-05-22</td>\n",
        "      <td> 51413.203602</td>\n",
        "    </tr>\n",
        "    <tr>\n",
        "      <th>33</th>\n",
        "      <td> 2011-05-23</td>\n",
        "      <td> 40378.805967</td>\n",
        "    </tr>\n",
        "  </tbody>\n",
        "</table>\n",
        "</div>"
       ],
       "metadata": {},
       "output_type": "pyout",
       "prompt_number": 283,
       "text": [
        "          date   consumption\n",
        "5   2011-04-23  41551.530034\n",
        "6   2011-04-24  58647.570168\n",
        "12  2011-04-30  66411.835632\n",
        "13  2011-05-01  42598.899117\n",
        "32  2011-05-22  51413.203602\n",
        "33  2011-05-23  40378.805967"
       ]
      }
     ],
     "prompt_number": 283
    },
    {
     "cell_type": "code",
     "collapsed": false,
     "input": [
      "df_total_watt_daily_middle.head()"
     ],
     "language": "python",
     "metadata": {},
     "outputs": [
      {
       "html": [
        "<div style=\"max-height:1000px;max-width:1500px;overflow:auto;\">\n",
        "<table border=\"1\" class=\"dataframe\">\n",
        "  <thead>\n",
        "    <tr style=\"text-align: right;\">\n",
        "      <th></th>\n",
        "      <th>date</th>\n",
        "      <th>consumption</th>\n",
        "    </tr>\n",
        "  </thead>\n",
        "  <tbody>\n",
        "    <tr>\n",
        "      <th>0</th>\n",
        "      <td> 2011-04-18</td>\n",
        "      <td> 17105.982347</td>\n",
        "    </tr>\n",
        "    <tr>\n",
        "      <th>1</th>\n",
        "      <td> 2011-04-19</td>\n",
        "      <td> 30440.466453</td>\n",
        "    </tr>\n",
        "    <tr>\n",
        "      <th>2</th>\n",
        "      <td> 2011-04-20</td>\n",
        "      <td> 24027.226338</td>\n",
        "    </tr>\n",
        "    <tr>\n",
        "      <th>3</th>\n",
        "      <td> 2011-04-21</td>\n",
        "      <td> 17475.725746</td>\n",
        "    </tr>\n",
        "    <tr>\n",
        "      <th>4</th>\n",
        "      <td> 2011-04-22</td>\n",
        "      <td> 18776.278103</td>\n",
        "    </tr>\n",
        "  </tbody>\n",
        "</table>\n",
        "</div>"
       ],
       "metadata": {},
       "output_type": "pyout",
       "prompt_number": 284,
       "text": [
        "         date   consumption\n",
        "0  2011-04-18  17105.982347\n",
        "1  2011-04-19  30440.466453\n",
        "2  2011-04-20  24027.226338\n",
        "3  2011-04-21  17475.725746\n",
        "4  2011-04-22  18776.278103"
       ]
      }
     ],
     "prompt_number": 284
    },
    {
     "cell_type": "code",
     "collapsed": false,
     "input": [
      "df_total_watt_daily.count()"
     ],
     "language": "python",
     "metadata": {},
     "outputs": [
      {
       "metadata": {},
       "output_type": "pyout",
       "prompt_number": 285,
       "text": [
        "date           35\n",
        "consumption    35\n",
        "dtype: int64"
       ]
      }
     ],
     "prompt_number": 285
    },
    {
     "cell_type": "raw",
     "metadata": {},
     "source": [
      "6. visualise the clusters"
     ]
    },
    {
     "cell_type": "code",
     "collapsed": false,
     "input": [
      "middle = pylab.bar(df_total_watt_daily_middle.date, df_total_watt_daily_middle.consumption, color='green')\n",
      "high = pylab.bar(df_total_watt_daily_high.date, df_total_watt_daily_high.consumption, color='red')\n",
      "low = pylab.bar(df_total_watt_daily_low.date, df_total_watt_daily_low.consumption, color='blue')\n",
      "pylab.ylabel('energy consumption per day (Wh)')\n",
      "pylab.xlabel('date')\n",
      "pylab.title('clustered energy consumption per day')\n",
      "pylab.legend((middle, high, low), ('middle','high', 'low'))"
     ],
     "language": "python",
     "metadata": {},
     "outputs": [
      {
       "metadata": {},
       "output_type": "pyout",
       "prompt_number": 286,
       "text": [
        "<matplotlib.legend.Legend at 0x121ff7c90>"
       ]
      },
      {
       "metadata": {},
       "output_type": "display_data",
       "png": "[encoded data removed]",
       "text": [
        "<matplotlib.figure.Figure at 0x121922650>"
       ]
      }
     ],
     "prompt_number": 286
    },
    {
     "cell_type": "code",
     "collapsed": false,
     "input": [],
     "language": "python",
     "metadata": {},
     "outputs": []
    }
   ],
   "metadata": {}
  }
 ]
}